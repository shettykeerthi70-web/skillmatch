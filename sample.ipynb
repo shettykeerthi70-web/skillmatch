{
 "cells": [
  {
   "cell_type": "code",
   "execution_count": null,
   "id": "affb9ba1",
   "metadata": {},
   "outputs": [],
   "source": [
    "Handle PDF"
   ]
  }
 ],
 "metadata": {
  "language_info": {
   "name": "python"
  }
 },
 "nbformat": 4,
 "nbformat_minor": 5
}
